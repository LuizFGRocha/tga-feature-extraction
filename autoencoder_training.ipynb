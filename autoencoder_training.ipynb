{
 "cells": [
  {
   "cell_type": "code",
   "execution_count": null,
   "metadata": {},
   "outputs": [],
   "source": [
    "import numpy as np\n",
    "import torch\n",
    "from torch import nn, optim\n",
    "from torch.utils.data import DataLoader, random_split\n",
    "from torch.utils.tensorboard import SummaryWriter\n",
    "import matplotlib.pyplot as plt\n",
    "from autoencoder import AutoencoderDataset, ConvAutoencoder"
   ]
  },
  {
   "cell_type": "code",
   "execution_count": null,
   "metadata": {},
   "outputs": [],
   "source": [
    "torch.manual_seed(0)\n",
    "\n",
    "device = (\n",
    "    \"cuda\"\n",
    "    if torch.cuda.is_available()\n",
    "    else \"mps\"\n",
    "    if torch.backends.mps.is_available()\n",
    "    else \"cpu\"\n",
    ")\n",
    "print(f\"Using {device} device\")"
   ]
  },
  {
   "cell_type": "code",
   "execution_count": null,
   "metadata": {},
   "outputs": [],
   "source": [
    "ad = AutoencoderDataset(DATA_DIR='./data', transform=torch.tensor)\n",
    "print(ad.__len__())\n",
    "\n",
    "train, test = random_split(ad, [9/10, 1/10])\n",
    "train_dl = DataLoader(train, batch_size=5, shuffle=True)\n",
    "test_dl = DataLoader(test, batch_size=5)"
   ]
  },
  {
   "cell_type": "code",
   "execution_count": null,
   "metadata": {},
   "outputs": [],
   "source": [
    "global_step = 0\n",
    "\n",
    "writer = SummaryWriter()\n",
    "\n",
    "model = ConvAutoencoder()\n",
    "if global_step != 0:\n",
    "    model.load_state_dict(torch.load(f'./checkpoints/unet/{global_step}.pth'))\n",
    "\n",
    "model.double()\n",
    "model.to(device)\n",
    "\n",
    "# Define the loss function and optimizer\n",
    "criterion = nn.MSELoss()\n",
    "optimizer = optim.Adam(model.parameters(), lr=0.001)\n",
    " \n",
    "# Train the autoencoder\n",
    "num_epochs = 1500\n",
    "min_loss = 1\n",
    "for epoch in range(num_epochs):\n",
    "    for i, data in enumerate(train_dl):\n",
    "        x, _ = data\n",
    "        x = x.to(device)\n",
    "        optimizer.zero_grad()\n",
    "        output = model(x)\n",
    "        train_loss = criterion(output, x)\n",
    "        train_loss.backward()\n",
    "        optimizer.step()\n",
    "\n",
    "        global_step += 1\n",
    "\n",
    "        if global_step % 500 == 0:\n",
    "            print('Epoch [{}/{}], Batch: {}, Global Step: {}, Train Loss: {:.4f}'.format(epoch+1, num_epochs, i, global_step, train_loss.item()))\n",
    "            if global_step > 0:\n",
    "                torch.save(model.state_dict(), f'./checkpoints/unet/{global_step}.pth')\n",
    "        \n",
    "        writer.add_scalar('Loss/train', train_loss.item(), global_step=global_step)\n",
    "    \n",
    "    test_loss = 0\n",
    "\n",
    "    for data in test_dl:\n",
    "        x, _ = data\n",
    "        x = x.to(device)\n",
    "        output = model(x)\n",
    "        test_loss += criterion(x, output).item()\n",
    "\n",
    "    writer.add_scalar('Loss/test', test_loss, global_step=global_step)\n",
    "        "
   ]
  },
  {
   "cell_type": "code",
   "execution_count": null,
   "metadata": {},
   "outputs": [],
   "source": [
    "x, _ = next(iter(test_dl))\n",
    "best_model = ConvAutoencoder()\n",
    "best_model.load_state_dict(torch.load('./checkpoints/unet/14500.pth', weights_only=True))\n",
    "best_model.to('cpu')\n",
    "best_model.double()\n",
    "plt.title('Reconstrução (DTG)')\n",
    "plt.plot(x[0][1], label='Original')\n",
    "y = best_model(x).detach().numpy()\n",
    "plt.plot(y[0][1], label='Autoencoder')\n",
    "plt.legend()\n",
    "plt.show()\n",
    "plt.close()"
   ]
  },
  {
   "cell_type": "code",
   "execution_count": null,
   "metadata": {},
   "outputs": [],
   "source": [
    "ad = AutoencoderDataset(transform=torch.tensor)\n",
    "dl = DataLoader(ad, batch_size=1)\n",
    "\n",
    "model = ConvAutoencoder()\n",
    "model.load_state_dict(torch.load('checkpoints/unet/14500.pth', weights_only=True))\n",
    "model.to('cpu')\n",
    "model.double()\n",
    "\n",
    "codes = None\n",
    "for x, _ in dl:\n",
    "  code = model.encode(x).detach().numpy()\n",
    "  codes = code if codes is None else np.concatenate([codes, code], axis=0)\n",
    "\n",
    "np.savetxt('encoding.txt', codes)"
   ]
  }
 ],
 "metadata": {
  "kernelspec": {
   "display_name": ".venv",
   "language": "python",
   "name": "python3"
  },
  "language_info": {
   "codemirror_mode": {
    "name": "ipython",
    "version": 3
   },
   "file_extension": ".py",
   "mimetype": "text/x-python",
   "name": "python",
   "nbconvert_exporter": "python",
   "pygments_lexer": "ipython3",
   "version": "3.12.3"
  }
 },
 "nbformat": 4,
 "nbformat_minor": 2
}
